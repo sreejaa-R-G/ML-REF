{
 "cells": [
  {
   "cell_type": "markdown",
   "id": "9e6e7f1f-da73-4c4b-967b-ae393518432a",
   "metadata": {},
   "source": [
    "### IMPORTING THE RELEVANT LIBRARIES"
   ]
  },
  {
   "cell_type": "code",
   "execution_count": 72,
   "id": "f2769ea6-b0f1-4c6b-8f8f-32881d292913",
   "metadata": {},
   "outputs": [],
   "source": [
    "import pandas as pd\n",
    "import numpy as np\n",
    "import seaborn as sns\n",
    "import matplotlib.pyplot as plt\n",
    "%matplotlib inline\n",
    "import plotly.offline as py\n",
    "from sklearn.preprocessing import LabelEncoder\n",
    "from sklearn.model_selection import train_test_split\n",
    "from sklearn.ensemble import AdaBoostClassifier \n",
    "from sklearn.preprocessing import StandardScaler\n",
    "from sklearn.metrics import accuracy_score,confusion_matrix\n",
    "from sklearn.metrics import accuracy_score, precision_score, recall_score, f1_score,classification_report\n",
    "from sklearn.linear_model import LogisticRegression\n",
    "from sklearn.svm import SVC\n",
    "from sklearn.neighbors import KNeighborsClassifier\n",
    "from sklearn.tree import DecisionTreeClassifier\n",
    "from sklearn.ensemble import RandomForestClassifier\n",
    "\n",
    "import warnings\n",
    "warnings.filterwarnings('ignore')\n",
    "import xgboost as xgb\n",
    "from xgboost import XGBClassifier\n",
    "from sklearn.model_selection import RandomizedSearchCV\n",
    "from sklearn.model_selection import GridSearchCV"
   ]
  },
  {
   "cell_type": "markdown",
   "id": "dc8d8e14-4f56-4e8b-aeed-12a74c88dd75",
   "metadata": {},
   "source": [
    "### IMPORTING THE DATASET"
   ]
  },
  {
   "cell_type": "code",
   "execution_count": 73,
   "id": "6e1d321c-f8c1-486d-9e69-881a8c5a1dab",
   "metadata": {},
   "outputs": [
    {
     "data": {
      "text/html": [
       "<div>\n",
       "<style scoped>\n",
       "    .dataframe tbody tr th:only-of-type {\n",
       "        vertical-align: middle;\n",
       "    }\n",
       "\n",
       "    .dataframe tbody tr th {\n",
       "        vertical-align: top;\n",
       "    }\n",
       "\n",
       "    .dataframe thead th {\n",
       "        text-align: right;\n",
       "    }\n",
       "</style>\n",
       "<table border=\"1\" class=\"dataframe\">\n",
       "  <thead>\n",
       "    <tr style=\"text-align: right;\">\n",
       "      <th></th>\n",
       "      <th>id</th>\n",
       "      <th>Season</th>\n",
       "      <th>city</th>\n",
       "      <th>date</th>\n",
       "      <th>team1</th>\n",
       "      <th>team2</th>\n",
       "      <th>toss_winner</th>\n",
       "      <th>toss_decision</th>\n",
       "      <th>result</th>\n",
       "      <th>dl_applied</th>\n",
       "      <th>winner</th>\n",
       "      <th>win_by_runs</th>\n",
       "      <th>win_by_wickets</th>\n",
       "      <th>player_of_match</th>\n",
       "      <th>venue</th>\n",
       "      <th>umpire1</th>\n",
       "      <th>umpire2</th>\n",
       "      <th>umpire3</th>\n",
       "    </tr>\n",
       "  </thead>\n",
       "  <tbody>\n",
       "    <tr>\n",
       "      <th>0</th>\n",
       "      <td>1</td>\n",
       "      <td>IPL-2017</td>\n",
       "      <td>Hyderabad</td>\n",
       "      <td>05-04-2017</td>\n",
       "      <td>Sunrisers Hyderabad</td>\n",
       "      <td>Royal Challengers Bangalore</td>\n",
       "      <td>Royal Challengers Bangalore</td>\n",
       "      <td>field</td>\n",
       "      <td>normal</td>\n",
       "      <td>0</td>\n",
       "      <td>Sunrisers Hyderabad</td>\n",
       "      <td>35</td>\n",
       "      <td>0</td>\n",
       "      <td>Yuvraj Singh</td>\n",
       "      <td>Rajiv Gandhi International Stadium, Uppal</td>\n",
       "      <td>AY Dandekar</td>\n",
       "      <td>NJ Llong</td>\n",
       "      <td>NaN</td>\n",
       "    </tr>\n",
       "    <tr>\n",
       "      <th>1</th>\n",
       "      <td>2</td>\n",
       "      <td>IPL-2017</td>\n",
       "      <td>Pune</td>\n",
       "      <td>06-04-2017</td>\n",
       "      <td>Mumbai Indians</td>\n",
       "      <td>Rising Pune Supergiant</td>\n",
       "      <td>Rising Pune Supergiant</td>\n",
       "      <td>field</td>\n",
       "      <td>normal</td>\n",
       "      <td>0</td>\n",
       "      <td>Rising Pune Supergiant</td>\n",
       "      <td>0</td>\n",
       "      <td>7</td>\n",
       "      <td>SPD Smith</td>\n",
       "      <td>Maharashtra Cricket Association Stadium</td>\n",
       "      <td>A Nand Kishore</td>\n",
       "      <td>S Ravi</td>\n",
       "      <td>NaN</td>\n",
       "    </tr>\n",
       "    <tr>\n",
       "      <th>2</th>\n",
       "      <td>3</td>\n",
       "      <td>IPL-2017</td>\n",
       "      <td>Rajkot</td>\n",
       "      <td>07-04-2017</td>\n",
       "      <td>Gujarat Lions</td>\n",
       "      <td>Kolkata Knight Riders</td>\n",
       "      <td>Kolkata Knight Riders</td>\n",
       "      <td>field</td>\n",
       "      <td>normal</td>\n",
       "      <td>0</td>\n",
       "      <td>Kolkata Knight Riders</td>\n",
       "      <td>0</td>\n",
       "      <td>10</td>\n",
       "      <td>CA Lynn</td>\n",
       "      <td>Saurashtra Cricket Association Stadium</td>\n",
       "      <td>Nitin Menon</td>\n",
       "      <td>CK Nandan</td>\n",
       "      <td>NaN</td>\n",
       "    </tr>\n",
       "    <tr>\n",
       "      <th>3</th>\n",
       "      <td>4</td>\n",
       "      <td>IPL-2017</td>\n",
       "      <td>Indore</td>\n",
       "      <td>08-04-2017</td>\n",
       "      <td>Rising Pune Supergiant</td>\n",
       "      <td>Kings XI Punjab</td>\n",
       "      <td>Kings XI Punjab</td>\n",
       "      <td>field</td>\n",
       "      <td>normal</td>\n",
       "      <td>0</td>\n",
       "      <td>Kings XI Punjab</td>\n",
       "      <td>0</td>\n",
       "      <td>6</td>\n",
       "      <td>GJ Maxwell</td>\n",
       "      <td>Holkar Cricket Stadium</td>\n",
       "      <td>AK Chaudhary</td>\n",
       "      <td>C Shamshuddin</td>\n",
       "      <td>NaN</td>\n",
       "    </tr>\n",
       "    <tr>\n",
       "      <th>4</th>\n",
       "      <td>5</td>\n",
       "      <td>IPL-2017</td>\n",
       "      <td>Bangalore</td>\n",
       "      <td>08-04-2017</td>\n",
       "      <td>Royal Challengers Bangalore</td>\n",
       "      <td>Delhi Daredevils</td>\n",
       "      <td>Royal Challengers Bangalore</td>\n",
       "      <td>bat</td>\n",
       "      <td>normal</td>\n",
       "      <td>0</td>\n",
       "      <td>Royal Challengers Bangalore</td>\n",
       "      <td>15</td>\n",
       "      <td>0</td>\n",
       "      <td>KM Jadhav</td>\n",
       "      <td>M Chinnaswamy Stadium</td>\n",
       "      <td>NaN</td>\n",
       "      <td>NaN</td>\n",
       "      <td>NaN</td>\n",
       "    </tr>\n",
       "  </tbody>\n",
       "</table>\n",
       "</div>"
      ],
      "text/plain": [
       "   id    Season       city        date                        team1  \\\n",
       "0   1  IPL-2017  Hyderabad  05-04-2017          Sunrisers Hyderabad   \n",
       "1   2  IPL-2017       Pune  06-04-2017               Mumbai Indians   \n",
       "2   3  IPL-2017     Rajkot  07-04-2017                Gujarat Lions   \n",
       "3   4  IPL-2017     Indore  08-04-2017       Rising Pune Supergiant   \n",
       "4   5  IPL-2017  Bangalore  08-04-2017  Royal Challengers Bangalore   \n",
       "\n",
       "                         team2                  toss_winner toss_decision  \\\n",
       "0  Royal Challengers Bangalore  Royal Challengers Bangalore         field   \n",
       "1       Rising Pune Supergiant       Rising Pune Supergiant         field   \n",
       "2        Kolkata Knight Riders        Kolkata Knight Riders         field   \n",
       "3              Kings XI Punjab              Kings XI Punjab         field   \n",
       "4             Delhi Daredevils  Royal Challengers Bangalore           bat   \n",
       "\n",
       "   result  dl_applied                       winner  win_by_runs  \\\n",
       "0  normal           0          Sunrisers Hyderabad           35   \n",
       "1  normal           0       Rising Pune Supergiant            0   \n",
       "2  normal           0        Kolkata Knight Riders            0   \n",
       "3  normal           0              Kings XI Punjab            0   \n",
       "4  normal           0  Royal Challengers Bangalore           15   \n",
       "\n",
       "   win_by_wickets player_of_match                                      venue  \\\n",
       "0               0    Yuvraj Singh  Rajiv Gandhi International Stadium, Uppal   \n",
       "1               7       SPD Smith    Maharashtra Cricket Association Stadium   \n",
       "2              10         CA Lynn     Saurashtra Cricket Association Stadium   \n",
       "3               6      GJ Maxwell                     Holkar Cricket Stadium   \n",
       "4               0       KM Jadhav                      M Chinnaswamy Stadium   \n",
       "\n",
       "          umpire1        umpire2 umpire3  \n",
       "0     AY Dandekar       NJ Llong     NaN  \n",
       "1  A Nand Kishore         S Ravi     NaN  \n",
       "2     Nitin Menon      CK Nandan     NaN  \n",
       "3    AK Chaudhary  C Shamshuddin     NaN  \n",
       "4             NaN            NaN     NaN  "
      ]
     },
     "execution_count": 73,
     "metadata": {},
     "output_type": "execute_result"
    }
   ],
   "source": [
    "data=pd.read_csv('ipl_matches.csv')\n",
    "data.head()"
   ]
  },
  {
   "cell_type": "code",
   "execution_count": 74,
   "id": "50a86e84-04b4-4cc6-839f-d04b109a4475",
   "metadata": {},
   "outputs": [
    {
     "name": "stdout",
     "output_type": "stream",
     "text": [
      "<class 'pandas.core.frame.DataFrame'>\n",
      "RangeIndex: 756 entries, 0 to 755\n",
      "Data columns (total 18 columns):\n",
      " #   Column           Non-Null Count  Dtype \n",
      "---  ------           --------------  ----- \n",
      " 0   id               756 non-null    int64 \n",
      " 1   Season           756 non-null    object\n",
      " 2   city             749 non-null    object\n",
      " 3   date             756 non-null    object\n",
      " 4   team1            756 non-null    object\n",
      " 5   team2            756 non-null    object\n",
      " 6   toss_winner      756 non-null    object\n",
      " 7   toss_decision    756 non-null    object\n",
      " 8   result           756 non-null    object\n",
      " 9   dl_applied       756 non-null    int64 \n",
      " 10  winner           752 non-null    object\n",
      " 11  win_by_runs      756 non-null    int64 \n",
      " 12  win_by_wickets   756 non-null    int64 \n",
      " 13  player_of_match  752 non-null    object\n",
      " 14  venue            756 non-null    object\n",
      " 15  umpire1          754 non-null    object\n",
      " 16  umpire2          754 non-null    object\n",
      " 17  umpire3          119 non-null    object\n",
      "dtypes: int64(4), object(14)\n",
      "memory usage: 106.4+ KB\n"
     ]
    }
   ],
   "source": [
    "data.info()"
   ]
  },
  {
   "cell_type": "code",
   "execution_count": 75,
   "id": "d8cee474-9d8c-4421-a18b-674b87351459",
   "metadata": {},
   "outputs": [
    {
     "data": {
      "text/html": [
       "<div>\n",
       "<style scoped>\n",
       "    .dataframe tbody tr th:only-of-type {\n",
       "        vertical-align: middle;\n",
       "    }\n",
       "\n",
       "    .dataframe tbody tr th {\n",
       "        vertical-align: top;\n",
       "    }\n",
       "\n",
       "    .dataframe thead th {\n",
       "        text-align: right;\n",
       "    }\n",
       "</style>\n",
       "<table border=\"1\" class=\"dataframe\">\n",
       "  <thead>\n",
       "    <tr style=\"text-align: right;\">\n",
       "      <th></th>\n",
       "      <th>id</th>\n",
       "      <th>dl_applied</th>\n",
       "      <th>win_by_runs</th>\n",
       "      <th>win_by_wickets</th>\n",
       "    </tr>\n",
       "  </thead>\n",
       "  <tbody>\n",
       "    <tr>\n",
       "      <th>count</th>\n",
       "      <td>756.000000</td>\n",
       "      <td>756.000000</td>\n",
       "      <td>756.000000</td>\n",
       "      <td>756.000000</td>\n",
       "    </tr>\n",
       "    <tr>\n",
       "      <th>mean</th>\n",
       "      <td>1792.178571</td>\n",
       "      <td>0.025132</td>\n",
       "      <td>13.283069</td>\n",
       "      <td>3.350529</td>\n",
       "    </tr>\n",
       "    <tr>\n",
       "      <th>std</th>\n",
       "      <td>3464.478148</td>\n",
       "      <td>0.156630</td>\n",
       "      <td>23.471144</td>\n",
       "      <td>3.387963</td>\n",
       "    </tr>\n",
       "    <tr>\n",
       "      <th>min</th>\n",
       "      <td>1.000000</td>\n",
       "      <td>0.000000</td>\n",
       "      <td>0.000000</td>\n",
       "      <td>0.000000</td>\n",
       "    </tr>\n",
       "    <tr>\n",
       "      <th>25%</th>\n",
       "      <td>189.750000</td>\n",
       "      <td>0.000000</td>\n",
       "      <td>0.000000</td>\n",
       "      <td>0.000000</td>\n",
       "    </tr>\n",
       "    <tr>\n",
       "      <th>50%</th>\n",
       "      <td>378.500000</td>\n",
       "      <td>0.000000</td>\n",
       "      <td>0.000000</td>\n",
       "      <td>4.000000</td>\n",
       "    </tr>\n",
       "    <tr>\n",
       "      <th>75%</th>\n",
       "      <td>567.250000</td>\n",
       "      <td>0.000000</td>\n",
       "      <td>19.000000</td>\n",
       "      <td>6.000000</td>\n",
       "    </tr>\n",
       "    <tr>\n",
       "      <th>max</th>\n",
       "      <td>11415.000000</td>\n",
       "      <td>1.000000</td>\n",
       "      <td>146.000000</td>\n",
       "      <td>10.000000</td>\n",
       "    </tr>\n",
       "  </tbody>\n",
       "</table>\n",
       "</div>"
      ],
      "text/plain": [
       "                 id  dl_applied  win_by_runs  win_by_wickets\n",
       "count    756.000000  756.000000   756.000000      756.000000\n",
       "mean    1792.178571    0.025132    13.283069        3.350529\n",
       "std     3464.478148    0.156630    23.471144        3.387963\n",
       "min        1.000000    0.000000     0.000000        0.000000\n",
       "25%      189.750000    0.000000     0.000000        0.000000\n",
       "50%      378.500000    0.000000     0.000000        4.000000\n",
       "75%      567.250000    0.000000    19.000000        6.000000\n",
       "max    11415.000000    1.000000   146.000000       10.000000"
      ]
     },
     "execution_count": 75,
     "metadata": {},
     "output_type": "execute_result"
    }
   ],
   "source": [
    "data.describe()"
   ]
  },
  {
   "cell_type": "code",
   "execution_count": 76,
   "id": "4d0f7e66-2dcd-403b-818b-81b5eec5b292",
   "metadata": {},
   "outputs": [
    {
     "data": {
      "text/plain": [
       "id                   0\n",
       "Season               0\n",
       "city                 7\n",
       "date                 0\n",
       "team1                0\n",
       "team2                0\n",
       "toss_winner          0\n",
       "toss_decision        0\n",
       "result               0\n",
       "dl_applied           0\n",
       "winner               4\n",
       "win_by_runs          0\n",
       "win_by_wickets       0\n",
       "player_of_match      4\n",
       "venue                0\n",
       "umpire1              2\n",
       "umpire2              2\n",
       "umpire3            637\n",
       "dtype: int64"
      ]
     },
     "execution_count": 76,
     "metadata": {},
     "output_type": "execute_result"
    }
   ],
   "source": [
    "data.isnull().sum()"
   ]
  },
  {
   "cell_type": "code",
   "execution_count": 77,
   "id": "0528edbc-5a77-4fe0-af12-1d7016a81e35",
   "metadata": {},
   "outputs": [
    {
     "data": {
      "text/plain": [
       "13608"
      ]
     },
     "execution_count": 77,
     "metadata": {},
     "output_type": "execute_result"
    }
   ],
   "source": [
    "data.size"
   ]
  },
  {
   "cell_type": "code",
   "execution_count": 78,
   "id": "ff1c0df1-6b49-4594-b141-fa55fd62b9f6",
   "metadata": {},
   "outputs": [
    {
     "data": {
      "text/plain": [
       "(756, 18)"
      ]
     },
     "execution_count": 78,
     "metadata": {},
     "output_type": "execute_result"
    }
   ],
   "source": [
    "data.shape"
   ]
  },
  {
   "cell_type": "markdown",
   "id": "c1ab3e22-9659-4ad3-8fa6-ecb4253340b5",
   "metadata": {},
   "source": [
    "### DATA CLEANING"
   ]
  },
  {
   "cell_type": "code",
   "execution_count": 79,
   "id": "ff6afdfd-8298-47a1-ad00-e2785b77c417",
   "metadata": {},
   "outputs": [
    {
     "name": "stdout",
     "output_type": "stream",
     "text": [
      "<class 'pandas.core.frame.DataFrame'>\n",
      "RangeIndex: 756 entries, 0 to 755\n",
      "Data columns (total 18 columns):\n",
      " #   Column           Non-Null Count  Dtype \n",
      "---  ------           --------------  ----- \n",
      " 0   id               756 non-null    int64 \n",
      " 1   Season           756 non-null    object\n",
      " 2   city             749 non-null    object\n",
      " 3   date             756 non-null    object\n",
      " 4   team1            756 non-null    object\n",
      " 5   team2            756 non-null    object\n",
      " 6   toss_winner      756 non-null    object\n",
      " 7   toss_decision    756 non-null    object\n",
      " 8   result           756 non-null    object\n",
      " 9   dl_applied       756 non-null    int64 \n",
      " 10  winner           752 non-null    object\n",
      " 11  win_by_runs      756 non-null    int64 \n",
      " 12  win_by_wickets   756 non-null    int64 \n",
      " 13  player_of_match  752 non-null    object\n",
      " 14  venue            756 non-null    object\n",
      " 15  umpire1          754 non-null    object\n",
      " 16  umpire2          754 non-null    object\n",
      " 17  umpire3          119 non-null    object\n",
      "dtypes: int64(4), object(14)\n",
      "memory usage: 106.4+ KB\n"
     ]
    }
   ],
   "source": [
    "data.info()"
   ]
  },
  {
   "cell_type": "code",
   "execution_count": 80,
   "id": "66d8383d-d843-45dd-9526-5e2253089275",
   "metadata": {},
   "outputs": [
    {
     "data": {
      "text/plain": [
       "id                   0\n",
       "Season               0\n",
       "city                 7\n",
       "date                 0\n",
       "team1                0\n",
       "team2                0\n",
       "toss_winner          0\n",
       "toss_decision        0\n",
       "result               0\n",
       "dl_applied           0\n",
       "winner               4\n",
       "win_by_runs          0\n",
       "win_by_wickets       0\n",
       "player_of_match      4\n",
       "venue                0\n",
       "umpire1              2\n",
       "umpire2              2\n",
       "umpire3            637\n",
       "dtype: int64"
      ]
     },
     "execution_count": 80,
     "metadata": {},
     "output_type": "execute_result"
    }
   ],
   "source": [
    "data.isnull().sum()"
   ]
  },
  {
   "cell_type": "code",
   "execution_count": 81,
   "id": "6fd9f4a4-1f70-4750-9240-e945ecbea79a",
   "metadata": {},
   "outputs": [
    {
     "data": {
      "text/plain": [
       "Index(['id', 'Season', 'city', 'date', 'team1', 'team2', 'toss_winner',\n",
       "       'toss_decision', 'result', 'dl_applied', 'winner', 'win_by_runs',\n",
       "       'win_by_wickets', 'player_of_match', 'venue', 'umpire1', 'umpire2',\n",
       "       'umpire3'],\n",
       "      dtype='object')"
      ]
     },
     "execution_count": 81,
     "metadata": {},
     "output_type": "execute_result"
    }
   ],
   "source": [
    "data.columns"
   ]
  },
  {
   "cell_type": "markdown",
   "id": "3b4bf4e7-7711-4531-b9d8-01abe29df2b3",
   "metadata": {},
   "source": [
    "### CAPITALIZE THE COLUMNS"
   ]
  },
  {
   "cell_type": "code",
   "execution_count": 82,
   "id": "7889cff2-cab9-4b8f-9229-87db2d380da6",
   "metadata": {},
   "outputs": [
    {
     "name": "stdout",
     "output_type": "stream",
     "text": [
      "Index(['Id', 'Season', 'City', 'Date', 'Team1', 'Team2', 'Toss_winner',\n",
      "       'Toss_decision', 'Result', 'Dl_applied', 'Winner', 'Win_by_runs',\n",
      "       'Win_by_wickets', 'Player_of_match', 'Venue', 'Umpire1', 'Umpire2',\n",
      "       'Umpire3'],\n",
      "      dtype='object')\n"
     ]
    }
   ],
   "source": [
    "#COLUMNS_CAPITALIZE\n",
    "data.columns = data.columns.str.capitalize()\n",
    "\n",
    "# Check the result\n",
    "print(data.columns)"
   ]
  },
  {
   "cell_type": "markdown",
   "id": "b645ab9d-b91e-4bfa-afc6-d076cd3591ba",
   "metadata": {},
   "source": [
    "### REMOVING THE IRRELEVANT COLUMNS"
   ]
  },
  {
   "cell_type": "code",
   "execution_count": 83,
   "id": "fd123cea-c14e-4740-a6cf-fda52a01b6b0",
   "metadata": {},
   "outputs": [],
   "source": [
    "# Drop 'umpire3','Umpire1','Umpire2' column (too many missing values)\n",
    "data.drop(columns=['Umpire3','Umpire1','Umpire2'], inplace=True)\n",
    "data.drop(columns=['Id'], inplace=True)"
   ]
  },
  {
   "cell_type": "code",
   "execution_count": 84,
   "id": "5c1ff745-16b3-4fe0-94d8-95bb97a83224",
   "metadata": {},
   "outputs": [
    {
     "data": {
      "text/plain": [
       "Season             0\n",
       "City               7\n",
       "Date               0\n",
       "Team1              0\n",
       "Team2              0\n",
       "Toss_winner        0\n",
       "Toss_decision      0\n",
       "Result             0\n",
       "Dl_applied         0\n",
       "Winner             4\n",
       "Win_by_runs        0\n",
       "Win_by_wickets     0\n",
       "Player_of_match    4\n",
       "Venue              0\n",
       "dtype: int64"
      ]
     },
     "execution_count": 84,
     "metadata": {},
     "output_type": "execute_result"
    }
   ],
   "source": [
    "data.isnull().sum()"
   ]
  },
  {
   "cell_type": "markdown",
   "id": "bfe77d21-9cb6-4fc5-b1b7-1c5f19b59557",
   "metadata": {},
   "source": [
    "### FILLING THE MISSING VALUES"
   ]
  },
  {
   "cell_type": "code",
   "execution_count": 85,
   "id": "ba2c380e-66fd-49b4-8eca-da16063dd205",
   "metadata": {},
   "outputs": [
    {
     "data": {
      "text/plain": [
       "array(['Rajiv Gandhi International Stadium, Uppal',\n",
       "       'Maharashtra Cricket Association Stadium',\n",
       "       'Saurashtra Cricket Association Stadium', 'Holkar Cricket Stadium',\n",
       "       'M Chinnaswamy Stadium', 'Wankhede Stadium', 'Eden Gardens',\n",
       "       'Feroz Shah Kotla',\n",
       "       'Punjab Cricket Association IS Bindra Stadium, Mohali',\n",
       "       'Green Park', 'Punjab Cricket Association Stadium, Mohali',\n",
       "       'Sawai Mansingh Stadium', 'MA Chidambaram Stadium, Chepauk',\n",
       "       'Dr DY Patil Sports Academy', 'Newlands', \"St George's Park\",\n",
       "       'Kingsmead', 'SuperSport Park', 'Buffalo Park',\n",
       "       'New Wanderers Stadium', 'De Beers Diamond Oval',\n",
       "       'OUTsurance Oval', 'Brabourne Stadium',\n",
       "       'Sardar Patel Stadium, Motera', 'Barabati Stadium',\n",
       "       'Vidarbha Cricket Association Stadium, Jamtha',\n",
       "       'Himachal Pradesh Cricket Association Stadium', 'Nehru Stadium',\n",
       "       'Dr. Y.S. Rajasekhara Reddy ACA-VDCA Cricket Stadium',\n",
       "       'Subrata Roy Sahara Stadium',\n",
       "       'Shaheed Veer Narayan Singh International Stadium',\n",
       "       'JSCA International Stadium Complex', 'Sheikh Zayed Stadium',\n",
       "       'Sharjah Cricket Stadium', 'Dubai International Cricket Stadium',\n",
       "       'M. A. Chidambaram Stadium', 'Feroz Shah Kotla Ground',\n",
       "       'M. Chinnaswamy Stadium', 'Rajiv Gandhi Intl. Cricket Stadium',\n",
       "       'IS Bindra Stadium', 'ACA-VDCA Stadium'], dtype=object)"
      ]
     },
     "execution_count": 85,
     "metadata": {},
     "output_type": "execute_result"
    }
   ],
   "source": [
    "data['Venue'].unique()"
   ]
  },
  {
   "cell_type": "code",
   "execution_count": 86,
   "id": "69e6785d-eb6e-4d33-9d38-cb6d3950d11e",
   "metadata": {},
   "outputs": [
    {
     "data": {
      "text/plain": [
       "array(['Hyderabad', 'Pune', 'Rajkot', 'Indore', 'Bangalore', 'Mumbai',\n",
       "       'Kolkata', 'Delhi', 'Chandigarh', 'Kanpur', 'Jaipur', 'Chennai',\n",
       "       'Cape Town', 'Port Elizabeth', 'Durban', 'Centurion',\n",
       "       'East London', 'Johannesburg', 'Kimberley', 'Bloemfontein',\n",
       "       'Ahmedabad', 'Cuttack', 'Nagpur', 'Dharamsala', 'Kochi',\n",
       "       'Visakhapatnam', 'Raipur', 'Ranchi', 'Abu Dhabi', 'Sharjah', nan,\n",
       "       'Mohali', 'Bengaluru'], dtype=object)"
      ]
     },
     "execution_count": 86,
     "metadata": {},
     "output_type": "execute_result"
    }
   ],
   "source": [
    "data['City'].unique()"
   ]
  },
  {
   "cell_type": "code",
   "execution_count": 87,
   "id": "48f944bd-30bb-4785-825d-33a9b83c95e4",
   "metadata": {},
   "outputs": [],
   "source": [
    "data.fillna({\n",
    "    \"City\": \"Dubai\",\n",
    "    \"Winner\": \"No Result\",\n",
    "    \"Player_of_match\": \"Unknown\"\n",
    "}, inplace=True)"
   ]
  },
  {
   "cell_type": "code",
   "execution_count": 88,
   "id": "a90f6150-bba3-476f-b004-ce1ee0b201c3",
   "metadata": {},
   "outputs": [
    {
     "data": {
      "text/plain": [
       "Season             0\n",
       "City               0\n",
       "Date               0\n",
       "Team1              0\n",
       "Team2              0\n",
       "Toss_winner        0\n",
       "Toss_decision      0\n",
       "Result             0\n",
       "Dl_applied         0\n",
       "Winner             0\n",
       "Win_by_runs        0\n",
       "Win_by_wickets     0\n",
       "Player_of_match    0\n",
       "Venue              0\n",
       "dtype: int64"
      ]
     },
     "execution_count": 88,
     "metadata": {},
     "output_type": "execute_result"
    }
   ],
   "source": [
    "data.isnull().sum()"
   ]
  },
  {
   "cell_type": "code",
   "execution_count": 89,
   "id": "e157cee3-dbc6-40b0-ae0f-c5b84d2b7600",
   "metadata": {},
   "outputs": [],
   "source": [
    "data['Date'] = pd.to_datetime(data['Date'], format='%d-%m-%Y')  # Example: 25-04-2008"
   ]
  },
  {
   "cell_type": "code",
   "execution_count": 90,
   "id": "7ebb1d43-b499-44b8-a871-c9272e18b8d2",
   "metadata": {},
   "outputs": [
    {
     "data": {
      "text/html": [
       "<div>\n",
       "<style scoped>\n",
       "    .dataframe tbody tr th:only-of-type {\n",
       "        vertical-align: middle;\n",
       "    }\n",
       "\n",
       "    .dataframe tbody tr th {\n",
       "        vertical-align: top;\n",
       "    }\n",
       "\n",
       "    .dataframe thead th {\n",
       "        text-align: right;\n",
       "    }\n",
       "</style>\n",
       "<table border=\"1\" class=\"dataframe\">\n",
       "  <thead>\n",
       "    <tr style=\"text-align: right;\">\n",
       "      <th></th>\n",
       "      <th>Season</th>\n",
       "      <th>City</th>\n",
       "      <th>Date</th>\n",
       "      <th>Team1</th>\n",
       "      <th>Team2</th>\n",
       "      <th>Toss_winner</th>\n",
       "      <th>Toss_decision</th>\n",
       "      <th>Result</th>\n",
       "      <th>Dl_applied</th>\n",
       "      <th>Winner</th>\n",
       "      <th>Win_by_runs</th>\n",
       "      <th>Win_by_wickets</th>\n",
       "      <th>Player_of_match</th>\n",
       "      <th>Venue</th>\n",
       "    </tr>\n",
       "  </thead>\n",
       "  <tbody>\n",
       "    <tr>\n",
       "      <th>0</th>\n",
       "      <td>IPL-2017</td>\n",
       "      <td>Hyderabad</td>\n",
       "      <td>2017-04-05</td>\n",
       "      <td>Sunrisers Hyderabad</td>\n",
       "      <td>Royal Challengers Bangalore</td>\n",
       "      <td>Royal Challengers Bangalore</td>\n",
       "      <td>field</td>\n",
       "      <td>normal</td>\n",
       "      <td>0</td>\n",
       "      <td>Sunrisers Hyderabad</td>\n",
       "      <td>35</td>\n",
       "      <td>0</td>\n",
       "      <td>Yuvraj Singh</td>\n",
       "      <td>Rajiv Gandhi International Stadium, Uppal</td>\n",
       "    </tr>\n",
       "    <tr>\n",
       "      <th>1</th>\n",
       "      <td>IPL-2017</td>\n",
       "      <td>Pune</td>\n",
       "      <td>2017-04-06</td>\n",
       "      <td>Mumbai Indians</td>\n",
       "      <td>Rising Pune Supergiant</td>\n",
       "      <td>Rising Pune Supergiant</td>\n",
       "      <td>field</td>\n",
       "      <td>normal</td>\n",
       "      <td>0</td>\n",
       "      <td>Rising Pune Supergiant</td>\n",
       "      <td>0</td>\n",
       "      <td>7</td>\n",
       "      <td>SPD Smith</td>\n",
       "      <td>Maharashtra Cricket Association Stadium</td>\n",
       "    </tr>\n",
       "    <tr>\n",
       "      <th>2</th>\n",
       "      <td>IPL-2017</td>\n",
       "      <td>Rajkot</td>\n",
       "      <td>2017-04-07</td>\n",
       "      <td>Gujarat Lions</td>\n",
       "      <td>Kolkata Knight Riders</td>\n",
       "      <td>Kolkata Knight Riders</td>\n",
       "      <td>field</td>\n",
       "      <td>normal</td>\n",
       "      <td>0</td>\n",
       "      <td>Kolkata Knight Riders</td>\n",
       "      <td>0</td>\n",
       "      <td>10</td>\n",
       "      <td>CA Lynn</td>\n",
       "      <td>Saurashtra Cricket Association Stadium</td>\n",
       "    </tr>\n",
       "    <tr>\n",
       "      <th>3</th>\n",
       "      <td>IPL-2017</td>\n",
       "      <td>Indore</td>\n",
       "      <td>2017-04-08</td>\n",
       "      <td>Rising Pune Supergiant</td>\n",
       "      <td>Kings XI Punjab</td>\n",
       "      <td>Kings XI Punjab</td>\n",
       "      <td>field</td>\n",
       "      <td>normal</td>\n",
       "      <td>0</td>\n",
       "      <td>Kings XI Punjab</td>\n",
       "      <td>0</td>\n",
       "      <td>6</td>\n",
       "      <td>GJ Maxwell</td>\n",
       "      <td>Holkar Cricket Stadium</td>\n",
       "    </tr>\n",
       "    <tr>\n",
       "      <th>4</th>\n",
       "      <td>IPL-2017</td>\n",
       "      <td>Bangalore</td>\n",
       "      <td>2017-04-08</td>\n",
       "      <td>Royal Challengers Bangalore</td>\n",
       "      <td>Delhi Daredevils</td>\n",
       "      <td>Royal Challengers Bangalore</td>\n",
       "      <td>bat</td>\n",
       "      <td>normal</td>\n",
       "      <td>0</td>\n",
       "      <td>Royal Challengers Bangalore</td>\n",
       "      <td>15</td>\n",
       "      <td>0</td>\n",
       "      <td>KM Jadhav</td>\n",
       "      <td>M Chinnaswamy Stadium</td>\n",
       "    </tr>\n",
       "  </tbody>\n",
       "</table>\n",
       "</div>"
      ],
      "text/plain": [
       "     Season       City       Date                        Team1  \\\n",
       "0  IPL-2017  Hyderabad 2017-04-05          Sunrisers Hyderabad   \n",
       "1  IPL-2017       Pune 2017-04-06               Mumbai Indians   \n",
       "2  IPL-2017     Rajkot 2017-04-07                Gujarat Lions   \n",
       "3  IPL-2017     Indore 2017-04-08       Rising Pune Supergiant   \n",
       "4  IPL-2017  Bangalore 2017-04-08  Royal Challengers Bangalore   \n",
       "\n",
       "                         Team2                  Toss_winner Toss_decision  \\\n",
       "0  Royal Challengers Bangalore  Royal Challengers Bangalore         field   \n",
       "1       Rising Pune Supergiant       Rising Pune Supergiant         field   \n",
       "2        Kolkata Knight Riders        Kolkata Knight Riders         field   \n",
       "3              Kings XI Punjab              Kings XI Punjab         field   \n",
       "4             Delhi Daredevils  Royal Challengers Bangalore           bat   \n",
       "\n",
       "   Result  Dl_applied                       Winner  Win_by_runs  \\\n",
       "0  normal           0          Sunrisers Hyderabad           35   \n",
       "1  normal           0       Rising Pune Supergiant            0   \n",
       "2  normal           0        Kolkata Knight Riders            0   \n",
       "3  normal           0              Kings XI Punjab            0   \n",
       "4  normal           0  Royal Challengers Bangalore           15   \n",
       "\n",
       "   Win_by_wickets Player_of_match                                      Venue  \n",
       "0               0    Yuvraj Singh  Rajiv Gandhi International Stadium, Uppal  \n",
       "1               7       SPD Smith    Maharashtra Cricket Association Stadium  \n",
       "2              10         CA Lynn     Saurashtra Cricket Association Stadium  \n",
       "3               6      GJ Maxwell                     Holkar Cricket Stadium  \n",
       "4               0       KM Jadhav                      M Chinnaswamy Stadium  "
      ]
     },
     "execution_count": 90,
     "metadata": {},
     "output_type": "execute_result"
    }
   ],
   "source": [
    "data.head(5)"
   ]
  },
  {
   "cell_type": "markdown",
   "id": "7d514f4d-ed67-43d5-9e11-c88d744eccc3",
   "metadata": {},
   "source": [
    "### TEAM NAME MAPPING"
   ]
  },
  {
   "cell_type": "code",
   "execution_count": 91,
   "id": "cea2d396-f3b0-45a1-b079-4e2e9029454f",
   "metadata": {},
   "outputs": [
    {
     "data": {
      "text/plain": [
       "array(['Sunrisers Hyderabad', 'Mumbai Indians', 'Gujarat Lions',\n",
       "       'Rising Pune Supergiant', 'Royal Challengers Bangalore',\n",
       "       'Kolkata Knight Riders', 'Delhi Daredevils', 'Kings XI Punjab',\n",
       "       'Chennai Super Kings', 'Rajasthan Royals', 'Deccan Chargers',\n",
       "       'Kochi Tuskers Kerala', 'Pune Warriors', 'Rising Pune Supergiants',\n",
       "       'Delhi Capitals'], dtype=object)"
      ]
     },
     "execution_count": 91,
     "metadata": {},
     "output_type": "execute_result"
    }
   ],
   "source": [
    "data.Team1.unique()"
   ]
  },
  {
   "cell_type": "code",
   "execution_count": 92,
   "id": "6c777b09-8e1d-4cc3-b65d-68b6401123a1",
   "metadata": {},
   "outputs": [],
   "source": [
    "team_name_map = {\n",
    "    'Rising Pune Supergiant' : 'Rising Pune Supergiants',\n",
    "    'Delhi Daredevils' : 'Delhi Capitals',\n",
    "    'Pune Warriors' :'Rising Pune Supergiants',\n",
    "   }\n",
    "\n",
    "columns = ['Team1', 'Team2', 'Toss_winner', 'Winner']\n",
    "\n",
    "for col in columns :\n",
    "    data[col] = data[col].replace(team_name_map)"
   ]
  },
  {
   "cell_type": "code",
   "execution_count": 93,
   "id": "a9899b10-62ed-4691-a0c5-4533d5b92f3f",
   "metadata": {},
   "outputs": [
    {
     "data": {
      "text/html": [
       "<div>\n",
       "<style scoped>\n",
       "    .dataframe tbody tr th:only-of-type {\n",
       "        vertical-align: middle;\n",
       "    }\n",
       "\n",
       "    .dataframe tbody tr th {\n",
       "        vertical-align: top;\n",
       "    }\n",
       "\n",
       "    .dataframe thead th {\n",
       "        text-align: right;\n",
       "    }\n",
       "</style>\n",
       "<table border=\"1\" class=\"dataframe\">\n",
       "  <thead>\n",
       "    <tr style=\"text-align: right;\">\n",
       "      <th></th>\n",
       "      <th>Season</th>\n",
       "      <th>City</th>\n",
       "      <th>Date</th>\n",
       "      <th>Team1</th>\n",
       "      <th>Team2</th>\n",
       "      <th>Toss_winner</th>\n",
       "      <th>Toss_decision</th>\n",
       "      <th>Result</th>\n",
       "      <th>Dl_applied</th>\n",
       "      <th>Winner</th>\n",
       "      <th>Win_by_runs</th>\n",
       "      <th>Win_by_wickets</th>\n",
       "      <th>Player_of_match</th>\n",
       "      <th>Venue</th>\n",
       "    </tr>\n",
       "  </thead>\n",
       "  <tbody>\n",
       "    <tr>\n",
       "      <th>0</th>\n",
       "      <td>IPL-2017</td>\n",
       "      <td>Hyderabad</td>\n",
       "      <td>2017-04-05</td>\n",
       "      <td>Sunrisers Hyderabad</td>\n",
       "      <td>Royal Challengers Bangalore</td>\n",
       "      <td>Royal Challengers Bangalore</td>\n",
       "      <td>field</td>\n",
       "      <td>normal</td>\n",
       "      <td>0</td>\n",
       "      <td>Sunrisers Hyderabad</td>\n",
       "      <td>35</td>\n",
       "      <td>0</td>\n",
       "      <td>Yuvraj Singh</td>\n",
       "      <td>Rajiv Gandhi International Stadium, Uppal</td>\n",
       "    </tr>\n",
       "    <tr>\n",
       "      <th>1</th>\n",
       "      <td>IPL-2017</td>\n",
       "      <td>Pune</td>\n",
       "      <td>2017-04-06</td>\n",
       "      <td>Mumbai Indians</td>\n",
       "      <td>Rising Pune Supergiants</td>\n",
       "      <td>Rising Pune Supergiants</td>\n",
       "      <td>field</td>\n",
       "      <td>normal</td>\n",
       "      <td>0</td>\n",
       "      <td>Rising Pune Supergiants</td>\n",
       "      <td>0</td>\n",
       "      <td>7</td>\n",
       "      <td>SPD Smith</td>\n",
       "      <td>Maharashtra Cricket Association Stadium</td>\n",
       "    </tr>\n",
       "    <tr>\n",
       "      <th>2</th>\n",
       "      <td>IPL-2017</td>\n",
       "      <td>Rajkot</td>\n",
       "      <td>2017-04-07</td>\n",
       "      <td>Gujarat Lions</td>\n",
       "      <td>Kolkata Knight Riders</td>\n",
       "      <td>Kolkata Knight Riders</td>\n",
       "      <td>field</td>\n",
       "      <td>normal</td>\n",
       "      <td>0</td>\n",
       "      <td>Kolkata Knight Riders</td>\n",
       "      <td>0</td>\n",
       "      <td>10</td>\n",
       "      <td>CA Lynn</td>\n",
       "      <td>Saurashtra Cricket Association Stadium</td>\n",
       "    </tr>\n",
       "    <tr>\n",
       "      <th>3</th>\n",
       "      <td>IPL-2017</td>\n",
       "      <td>Indore</td>\n",
       "      <td>2017-04-08</td>\n",
       "      <td>Rising Pune Supergiants</td>\n",
       "      <td>Kings XI Punjab</td>\n",
       "      <td>Kings XI Punjab</td>\n",
       "      <td>field</td>\n",
       "      <td>normal</td>\n",
       "      <td>0</td>\n",
       "      <td>Kings XI Punjab</td>\n",
       "      <td>0</td>\n",
       "      <td>6</td>\n",
       "      <td>GJ Maxwell</td>\n",
       "      <td>Holkar Cricket Stadium</td>\n",
       "    </tr>\n",
       "    <tr>\n",
       "      <th>4</th>\n",
       "      <td>IPL-2017</td>\n",
       "      <td>Bangalore</td>\n",
       "      <td>2017-04-08</td>\n",
       "      <td>Royal Challengers Bangalore</td>\n",
       "      <td>Delhi Capitals</td>\n",
       "      <td>Royal Challengers Bangalore</td>\n",
       "      <td>bat</td>\n",
       "      <td>normal</td>\n",
       "      <td>0</td>\n",
       "      <td>Royal Challengers Bangalore</td>\n",
       "      <td>15</td>\n",
       "      <td>0</td>\n",
       "      <td>KM Jadhav</td>\n",
       "      <td>M Chinnaswamy Stadium</td>\n",
       "    </tr>\n",
       "  </tbody>\n",
       "</table>\n",
       "</div>"
      ],
      "text/plain": [
       "     Season       City       Date                        Team1  \\\n",
       "0  IPL-2017  Hyderabad 2017-04-05          Sunrisers Hyderabad   \n",
       "1  IPL-2017       Pune 2017-04-06               Mumbai Indians   \n",
       "2  IPL-2017     Rajkot 2017-04-07                Gujarat Lions   \n",
       "3  IPL-2017     Indore 2017-04-08      Rising Pune Supergiants   \n",
       "4  IPL-2017  Bangalore 2017-04-08  Royal Challengers Bangalore   \n",
       "\n",
       "                         Team2                  Toss_winner Toss_decision  \\\n",
       "0  Royal Challengers Bangalore  Royal Challengers Bangalore         field   \n",
       "1      Rising Pune Supergiants      Rising Pune Supergiants         field   \n",
       "2        Kolkata Knight Riders        Kolkata Knight Riders         field   \n",
       "3              Kings XI Punjab              Kings XI Punjab         field   \n",
       "4               Delhi Capitals  Royal Challengers Bangalore           bat   \n",
       "\n",
       "   Result  Dl_applied                       Winner  Win_by_runs  \\\n",
       "0  normal           0          Sunrisers Hyderabad           35   \n",
       "1  normal           0      Rising Pune Supergiants            0   \n",
       "2  normal           0        Kolkata Knight Riders            0   \n",
       "3  normal           0              Kings XI Punjab            0   \n",
       "4  normal           0  Royal Challengers Bangalore           15   \n",
       "\n",
       "   Win_by_wickets Player_of_match                                      Venue  \n",
       "0               0    Yuvraj Singh  Rajiv Gandhi International Stadium, Uppal  \n",
       "1               7       SPD Smith    Maharashtra Cricket Association Stadium  \n",
       "2              10         CA Lynn     Saurashtra Cricket Association Stadium  \n",
       "3               6      GJ Maxwell                     Holkar Cricket Stadium  \n",
       "4               0       KM Jadhav                      M Chinnaswamy Stadium  "
      ]
     },
     "execution_count": 93,
     "metadata": {},
     "output_type": "execute_result"
    }
   ],
   "source": [
    "data.head()"
   ]
  },
  {
   "cell_type": "code",
   "execution_count": 94,
   "id": "93a27f2f-8441-4a45-894b-4ccba5fee132",
   "metadata": {},
   "outputs": [],
   "source": [
    "data['Season'] = data['Season'].str.extract(r'(\\d{4})').astype(int)"
   ]
  },
  {
   "cell_type": "code",
   "execution_count": 95,
   "id": "903ef367-580b-4ad3-9a27-bf2807a1a38b",
   "metadata": {},
   "outputs": [
    {
     "data": {
      "text/plain": [
       "Season             0\n",
       "City               0\n",
       "Date               0\n",
       "Team1              0\n",
       "Team2              0\n",
       "Toss_winner        0\n",
       "Toss_decision      0\n",
       "Result             0\n",
       "Dl_applied         0\n",
       "Winner             0\n",
       "Win_by_runs        0\n",
       "Win_by_wickets     0\n",
       "Player_of_match    0\n",
       "Venue              0\n",
       "dtype: int64"
      ]
     },
     "execution_count": 95,
     "metadata": {},
     "output_type": "execute_result"
    }
   ],
   "source": [
    "data.isnull().sum()"
   ]
  },
  {
   "cell_type": "code",
   "execution_count": 96,
   "id": "c823253c-f9d5-4f50-888c-466eb64e057a",
   "metadata": {},
   "outputs": [],
   "source": [
    "# Replace variations with one standard name\n",
    "# Standardize city names\n",
    "data[\"City\"] = data[\"City\"].replace({\"Bangalore\": \"Bengaluru\"})\n"
   ]
  },
  {
   "cell_type": "code",
   "execution_count": 97,
   "id": "1fb3bbba-cdcf-48bc-8eaf-c159724db362",
   "metadata": {},
   "outputs": [
    {
     "data": {
      "text/plain": [
       "array(['Hyderabad', 'Pune', 'Rajkot', 'Indore', 'Bengaluru', 'Mumbai',\n",
       "       'Kolkata', 'Delhi', 'Chandigarh', 'Kanpur', 'Jaipur', 'Chennai',\n",
       "       'Cape Town', 'Port Elizabeth', 'Durban', 'Centurion',\n",
       "       'East London', 'Johannesburg', 'Kimberley', 'Bloemfontein',\n",
       "       'Ahmedabad', 'Cuttack', 'Nagpur', 'Dharamsala', 'Kochi',\n",
       "       'Visakhapatnam', 'Raipur', 'Ranchi', 'Abu Dhabi', 'Sharjah',\n",
       "       'Dubai', 'Mohali'], dtype=object)"
      ]
     },
     "execution_count": 97,
     "metadata": {},
     "output_type": "execute_result"
    }
   ],
   "source": [
    "data['City'].unique()"
   ]
  },
  {
   "cell_type": "code",
   "execution_count": 98,
   "id": "159018ff-f0d5-4cb0-ada9-5f5a01e6a33a",
   "metadata": {},
   "outputs": [
    {
     "data": {
      "text/html": [
       "<div>\n",
       "<style scoped>\n",
       "    .dataframe tbody tr th:only-of-type {\n",
       "        vertical-align: middle;\n",
       "    }\n",
       "\n",
       "    .dataframe tbody tr th {\n",
       "        vertical-align: top;\n",
       "    }\n",
       "\n",
       "    .dataframe thead th {\n",
       "        text-align: right;\n",
       "    }\n",
       "</style>\n",
       "<table border=\"1\" class=\"dataframe\">\n",
       "  <thead>\n",
       "    <tr style=\"text-align: right;\">\n",
       "      <th></th>\n",
       "      <th>Season</th>\n",
       "      <th>City</th>\n",
       "      <th>Date</th>\n",
       "      <th>Team1</th>\n",
       "      <th>Team2</th>\n",
       "      <th>Toss_winner</th>\n",
       "      <th>Toss_decision</th>\n",
       "      <th>Result</th>\n",
       "      <th>Dl_applied</th>\n",
       "      <th>Winner</th>\n",
       "      <th>Win_by_runs</th>\n",
       "      <th>Win_by_wickets</th>\n",
       "      <th>Player_of_match</th>\n",
       "      <th>Venue</th>\n",
       "    </tr>\n",
       "  </thead>\n",
       "  <tbody>\n",
       "    <tr>\n",
       "      <th>0</th>\n",
       "      <td>2017</td>\n",
       "      <td>Hyderabad</td>\n",
       "      <td>2017-04-05</td>\n",
       "      <td>Sunrisers Hyderabad</td>\n",
       "      <td>Royal Challengers Bangalore</td>\n",
       "      <td>Royal Challengers Bangalore</td>\n",
       "      <td>field</td>\n",
       "      <td>normal</td>\n",
       "      <td>0</td>\n",
       "      <td>Sunrisers Hyderabad</td>\n",
       "      <td>35</td>\n",
       "      <td>0</td>\n",
       "      <td>Yuvraj Singh</td>\n",
       "      <td>Rajiv Gandhi International Stadium, Uppal</td>\n",
       "    </tr>\n",
       "    <tr>\n",
       "      <th>1</th>\n",
       "      <td>2017</td>\n",
       "      <td>Pune</td>\n",
       "      <td>2017-04-06</td>\n",
       "      <td>Mumbai Indians</td>\n",
       "      <td>Rising Pune Supergiants</td>\n",
       "      <td>Rising Pune Supergiants</td>\n",
       "      <td>field</td>\n",
       "      <td>normal</td>\n",
       "      <td>0</td>\n",
       "      <td>Rising Pune Supergiants</td>\n",
       "      <td>0</td>\n",
       "      <td>7</td>\n",
       "      <td>SPD Smith</td>\n",
       "      <td>Maharashtra Cricket Association Stadium</td>\n",
       "    </tr>\n",
       "    <tr>\n",
       "      <th>2</th>\n",
       "      <td>2017</td>\n",
       "      <td>Rajkot</td>\n",
       "      <td>2017-04-07</td>\n",
       "      <td>Gujarat Lions</td>\n",
       "      <td>Kolkata Knight Riders</td>\n",
       "      <td>Kolkata Knight Riders</td>\n",
       "      <td>field</td>\n",
       "      <td>normal</td>\n",
       "      <td>0</td>\n",
       "      <td>Kolkata Knight Riders</td>\n",
       "      <td>0</td>\n",
       "      <td>10</td>\n",
       "      <td>CA Lynn</td>\n",
       "      <td>Saurashtra Cricket Association Stadium</td>\n",
       "    </tr>\n",
       "    <tr>\n",
       "      <th>3</th>\n",
       "      <td>2017</td>\n",
       "      <td>Indore</td>\n",
       "      <td>2017-04-08</td>\n",
       "      <td>Rising Pune Supergiants</td>\n",
       "      <td>Kings XI Punjab</td>\n",
       "      <td>Kings XI Punjab</td>\n",
       "      <td>field</td>\n",
       "      <td>normal</td>\n",
       "      <td>0</td>\n",
       "      <td>Kings XI Punjab</td>\n",
       "      <td>0</td>\n",
       "      <td>6</td>\n",
       "      <td>GJ Maxwell</td>\n",
       "      <td>Holkar Cricket Stadium</td>\n",
       "    </tr>\n",
       "    <tr>\n",
       "      <th>4</th>\n",
       "      <td>2017</td>\n",
       "      <td>Bengaluru</td>\n",
       "      <td>2017-04-08</td>\n",
       "      <td>Royal Challengers Bangalore</td>\n",
       "      <td>Delhi Capitals</td>\n",
       "      <td>Royal Challengers Bangalore</td>\n",
       "      <td>bat</td>\n",
       "      <td>normal</td>\n",
       "      <td>0</td>\n",
       "      <td>Royal Challengers Bangalore</td>\n",
       "      <td>15</td>\n",
       "      <td>0</td>\n",
       "      <td>KM Jadhav</td>\n",
       "      <td>M Chinnaswamy Stadium</td>\n",
       "    </tr>\n",
       "  </tbody>\n",
       "</table>\n",
       "</div>"
      ],
      "text/plain": [
       "   Season       City       Date                        Team1  \\\n",
       "0    2017  Hyderabad 2017-04-05          Sunrisers Hyderabad   \n",
       "1    2017       Pune 2017-04-06               Mumbai Indians   \n",
       "2    2017     Rajkot 2017-04-07                Gujarat Lions   \n",
       "3    2017     Indore 2017-04-08      Rising Pune Supergiants   \n",
       "4    2017  Bengaluru 2017-04-08  Royal Challengers Bangalore   \n",
       "\n",
       "                         Team2                  Toss_winner Toss_decision  \\\n",
       "0  Royal Challengers Bangalore  Royal Challengers Bangalore         field   \n",
       "1      Rising Pune Supergiants      Rising Pune Supergiants         field   \n",
       "2        Kolkata Knight Riders        Kolkata Knight Riders         field   \n",
       "3              Kings XI Punjab              Kings XI Punjab         field   \n",
       "4               Delhi Capitals  Royal Challengers Bangalore           bat   \n",
       "\n",
       "   Result  Dl_applied                       Winner  Win_by_runs  \\\n",
       "0  normal           0          Sunrisers Hyderabad           35   \n",
       "1  normal           0      Rising Pune Supergiants            0   \n",
       "2  normal           0        Kolkata Knight Riders            0   \n",
       "3  normal           0              Kings XI Punjab            0   \n",
       "4  normal           0  Royal Challengers Bangalore           15   \n",
       "\n",
       "   Win_by_wickets Player_of_match                                      Venue  \n",
       "0               0    Yuvraj Singh  Rajiv Gandhi International Stadium, Uppal  \n",
       "1               7       SPD Smith    Maharashtra Cricket Association Stadium  \n",
       "2              10         CA Lynn     Saurashtra Cricket Association Stadium  \n",
       "3               6      GJ Maxwell                     Holkar Cricket Stadium  \n",
       "4               0       KM Jadhav                      M Chinnaswamy Stadium  "
      ]
     },
     "execution_count": 98,
     "metadata": {},
     "output_type": "execute_result"
    }
   ],
   "source": [
    "data.head(5)"
   ]
  },
  {
   "cell_type": "code",
   "execution_count": 100,
   "id": "3e3bd35a-9bd1-4b23-8f8c-101330a353d2",
   "metadata": {},
   "outputs": [
    {
     "data": {
      "text/plain": [
       "<Figure size 800x500 with 0 Axes>"
      ]
     },
     "metadata": {},
     "output_type": "display_data"
    },
    {
     "data": {
      "image/png": "[encoded data removed]",
      "text/plain": [
       "<Figure size 800x500 with 1 Axes>"
      ]
     },
     "metadata": {},
     "output_type": "display_data"
    }
   ],
   "source": [
    "#FINDING OUTLIERS\n",
    "import seaborn as sns\n",
    "import matplotlib.pyplot as plt\n",
    "\n",
    "# Boxplot to visualize outliers\n",
    "plt.figure(figsize=(8,5))\n",
    "sns.boxplot(data['Win_by_runs'])\n",
    "plt.show() "
   ]
  },
  {
   "cell_type": "markdown",
   "id": "da85006f-2ca0-419b-8fa7-b9fdfebaa434",
   "metadata": {},
   "source": [
    "### EDA"
   ]
  },
  {
   "cell_type": "code",
   "execution_count": 101,
   "id": "6c820aab-56ef-4c21-b5b7-def91027b961",
   "metadata": {},
   "outputs": [],
   "source": [
    "import pandas as pd\n",
    "import numpy as np\n",
    "import matplotlib.pyplot as plt\n",
    "import seaborn as sns"
   ]
  },
  {
   "cell_type": "code",
   "execution_count": 127,
   "id": "4448f877-a210-4ed5-a0c9-6d0ca18678bc",
   "metadata": {},
   "outputs": [
    {
     "data": {
      "image/png": "[encoded data removed]",
      "text/plain": [
       "<Figure size 800x500 with 1 Axes>"
      ]
     },
     "metadata": {},
     "output_type": "display_data"
    }
   ],
   "source": [
    "# Matches per Season (Bar Chart)\n",
    "plt.figure(figsize=(8,5))\n",
    "sns.countplot(x='Season', data=data, palette='inferno')\n",
    "plt.title(\"Matches per Season\")\n",
    "plt.show()"
   ]
  },
  {
   "cell_type": "code",
   "execution_count": 104,
   "id": "c6af547b-2d9a-4f4f-9fcc-9e2a6c35ad2a",
   "metadata": {},
   "outputs": [
    {
     "data": {
      "image/png": "[encoded data removed]",
      "text/plain": [
       "<Figure size 600x600 with 1 Axes>"
      ]
     },
     "metadata": {},
     "output_type": "display_data"
    }
   ],
   "source": [
    "# Toss Decision Distribution (Pie Chart)\n",
    "plt.figure(figsize=(6,6))\n",
    "data['Toss_decision'].value_counts().plot(kind='pie', autopct='%1.1f%%', startangle=90)\n",
    "plt.title(\"Toss Decision Distribution\")\n",
    "plt.ylabel(\"\")\n",
    "plt.show()"
   ]
  },
  {
   "cell_type": "code",
   "execution_count": 105,
   "id": "86cbbc7d-8051-4409-bc37-f9b6872c0beb",
   "metadata": {},
   "outputs": [
    {
     "data": {
      "image/png": "[encoded data removed]",
      "text/plain": [
       "<Figure size 1000x500 with 1 Axes>"
      ]
     },
     "metadata": {},
     "output_type": "display_data"
    }
   ],
   "source": [
    "# Distribution of Wins by Team (Bar Chart)\n",
    "plt.figure(figsize=(10,5))\n",
    "data['Winner'].value_counts().plot(kind='bar', color='skyblue')\n",
    "plt.title(\"Wins by Each Team\")\n",
    "plt.xlabel(\"Teams\")\n",
    "plt.ylabel(\"Wins\")\n",
    "plt.xticks(rotation=45)\n",
    "plt.show()"
   ]
  },
  {
   "cell_type": "code",
   "execution_count": 126,
   "id": "0d730a3e-f114-4b74-8538-82a465322ab7",
   "metadata": {},
   "outputs": [
    {
     "data": {
      "image/png": "[encoded data removed]",
      "text/plain": [
       "<Figure size 600x600 with 1 Axes>"
      ]
     },
     "metadata": {},
     "output_type": "display_data"
    }
   ],
   "source": [
    "#Explore Correlations with Target (Winner)\n",
    "\n",
    "# Create a new column to check if Toss Winner also won the Match\n",
    "data['Toss_match_win'] = data['Toss_winner'] == data['Winner']\n",
    "\n",
    "# Plot as Pie Chart\n",
    "plt.figure(figsize=(6,6))\n",
    "data['Toss_match_win'].value_counts().plot(kind='pie', labels=['Yes','No'], autopct='%1.1f%%', colors=['orange','blue'])\n",
    "plt.title(\"Did Toss Winner Also Win the Match?\")\n",
    "plt.ylabel(\"\")\n",
    "plt.show()"
   ]
  },
  {
   "cell_type": "code",
   "execution_count": 108,
   "id": "9d5a953d-8bbe-470d-8a66-dd7915cb5b1e",
   "metadata": {},
   "outputs": [
    {
     "name": "stdout",
     "output_type": "stream",
     "text": [
      "   Season  City       Date  Team1  Team2  Toss_winner  Toss_decision  Result  \\\n",
      "0       9    14 2017-04-05     11     10           10              1       1   \n",
      "1       9    26 2017-04-06      7      9            9              1       1   \n",
      "2       9    28 2017-04-07      3      6            6              1       1   \n",
      "3       9    15 2017-04-08      9      4            4              1       1   \n",
      "4       9     2 2017-04-08     10      2           10              0       1   \n",
      "\n",
      "   Dl_applied  Winner  Win_by_runs  Win_by_wickets  Player_of_match  Venue  \\\n",
      "0           0      12           35               0              225     28   \n",
      "1           0      10            0               7              199     21   \n",
      "2           0       6            0              10               34     31   \n",
      "3           0       4            0               6               61     13   \n",
      "4           0      11           15               0               99     17   \n",
      "\n",
      "   Toss_match_win  \n",
      "0           False  \n",
      "1            True  \n",
      "2            True  \n",
      "3            True  \n",
      "4            True  \n"
     ]
    }
   ],
   "source": [
    "from sklearn.preprocessing import LabelEncoder\n",
    "\n",
    "categorical_cols = ['Season', 'City', 'Team1', 'Team2', 'Toss_winner',\n",
    "                    'Toss_decision', 'Result', 'Winner', 'Player_of_match',\n",
    "                    'Venue']\n",
    "\n",
    "label_encoder = LabelEncoder()\n",
    "for col in categorical_cols:\n",
    "    data[col] = label_encoder.fit_transform(data[col].astype(str))\n",
    "\n",
    "# Check the transformed data\n",
    "print(data.head())"
   ]
  },
  {
   "cell_type": "code",
   "execution_count": 109,
   "id": "4575daf0-903e-412b-92f4-b02c57db13aa",
   "metadata": {},
   "outputs": [
    {
     "data": {
      "image/png": "[encoded data removed]",
      "text/plain": [
       "<Figure size 1000x600 with 2 Axes>"
      ]
     },
     "metadata": {},
     "output_type": "display_data"
    }
   ],
   "source": [
    "# Plot heatmap\n",
    "plt.figure(figsize=(10,6))\n",
    "sns.heatmap(data[['Toss_winner',\t'Toss_decision','Result','Winner',\t'Win_by_runs',\t'Win_by_wickets']].corr(), annot=True, cmap=\"coolwarm\", linewidths=0.5)\n",
    "plt.title(\"Correlation Map\")\n",
    "plt.show()"
   ]
  },
  {
   "cell_type": "markdown",
   "id": "48c59362-cf3c-46ab-b044-e7b0a71d97e2",
   "metadata": {},
   "source": [
    "### DATA PROCESSING"
   ]
  },
  {
   "cell_type": "code",
   "execution_count": 110,
   "id": "a964079b-6b54-4e11-84a8-de3c4a33e168",
   "metadata": {},
   "outputs": [
    {
     "name": "stdout",
     "output_type": "stream",
     "text": [
      "Season             0\n",
      "City               0\n",
      "Date               0\n",
      "Team1              0\n",
      "Team2              0\n",
      "Toss_winner        0\n",
      "Toss_decision      0\n",
      "Result             0\n",
      "Dl_applied         0\n",
      "Winner             0\n",
      "Win_by_runs        0\n",
      "Win_by_wickets     0\n",
      "Player_of_match    0\n",
      "Venue              0\n",
      "Toss_match_win     0\n",
      "dtype: int64\n"
     ]
    }
   ],
   "source": [
    "print(data.isnull().sum())"
   ]
  },
  {
   "cell_type": "code",
   "execution_count": 111,
   "id": "d9116966-6e45-46e0-9cf4-161ba687cba6",
   "metadata": {},
   "outputs": [
    {
     "data": {
      "text/html": [
       "<div>\n",
       "<style scoped>\n",
       "    .dataframe tbody tr th:only-of-type {\n",
       "        vertical-align: middle;\n",
       "    }\n",
       "\n",
       "    .dataframe tbody tr th {\n",
       "        vertical-align: top;\n",
       "    }\n",
       "\n",
       "    .dataframe thead th {\n",
       "        text-align: right;\n",
       "    }\n",
       "</style>\n",
       "<table border=\"1\" class=\"dataframe\">\n",
       "  <thead>\n",
       "    <tr style=\"text-align: right;\">\n",
       "      <th></th>\n",
       "      <th>Season</th>\n",
       "      <th>City</th>\n",
       "      <th>Date</th>\n",
       "      <th>Team1</th>\n",
       "      <th>Team2</th>\n",
       "      <th>Toss_winner</th>\n",
       "      <th>Toss_decision</th>\n",
       "      <th>Result</th>\n",
       "      <th>Dl_applied</th>\n",
       "      <th>Winner</th>\n",
       "      <th>Win_by_runs</th>\n",
       "      <th>Win_by_wickets</th>\n",
       "      <th>Player_of_match</th>\n",
       "      <th>Venue</th>\n",
       "      <th>Toss_match_win</th>\n",
       "    </tr>\n",
       "  </thead>\n",
       "  <tbody>\n",
       "    <tr>\n",
       "      <th>0</th>\n",
       "      <td>9</td>\n",
       "      <td>14</td>\n",
       "      <td>2017-04-05</td>\n",
       "      <td>11</td>\n",
       "      <td>10</td>\n",
       "      <td>10</td>\n",
       "      <td>1</td>\n",
       "      <td>1</td>\n",
       "      <td>0</td>\n",
       "      <td>12</td>\n",
       "      <td>35</td>\n",
       "      <td>0</td>\n",
       "      <td>225</td>\n",
       "      <td>28</td>\n",
       "      <td>False</td>\n",
       "    </tr>\n",
       "    <tr>\n",
       "      <th>1</th>\n",
       "      <td>9</td>\n",
       "      <td>26</td>\n",
       "      <td>2017-04-06</td>\n",
       "      <td>7</td>\n",
       "      <td>9</td>\n",
       "      <td>9</td>\n",
       "      <td>1</td>\n",
       "      <td>1</td>\n",
       "      <td>0</td>\n",
       "      <td>10</td>\n",
       "      <td>0</td>\n",
       "      <td>7</td>\n",
       "      <td>199</td>\n",
       "      <td>21</td>\n",
       "      <td>True</td>\n",
       "    </tr>\n",
       "    <tr>\n",
       "      <th>2</th>\n",
       "      <td>9</td>\n",
       "      <td>28</td>\n",
       "      <td>2017-04-07</td>\n",
       "      <td>3</td>\n",
       "      <td>6</td>\n",
       "      <td>6</td>\n",
       "      <td>1</td>\n",
       "      <td>1</td>\n",
       "      <td>0</td>\n",
       "      <td>6</td>\n",
       "      <td>0</td>\n",
       "      <td>10</td>\n",
       "      <td>34</td>\n",
       "      <td>31</td>\n",
       "      <td>True</td>\n",
       "    </tr>\n",
       "    <tr>\n",
       "      <th>3</th>\n",
       "      <td>9</td>\n",
       "      <td>15</td>\n",
       "      <td>2017-04-08</td>\n",
       "      <td>9</td>\n",
       "      <td>4</td>\n",
       "      <td>4</td>\n",
       "      <td>1</td>\n",
       "      <td>1</td>\n",
       "      <td>0</td>\n",
       "      <td>4</td>\n",
       "      <td>0</td>\n",
       "      <td>6</td>\n",
       "      <td>61</td>\n",
       "      <td>13</td>\n",
       "      <td>True</td>\n",
       "    </tr>\n",
       "    <tr>\n",
       "      <th>4</th>\n",
       "      <td>9</td>\n",
       "      <td>2</td>\n",
       "      <td>2017-04-08</td>\n",
       "      <td>10</td>\n",
       "      <td>2</td>\n",
       "      <td>10</td>\n",
       "      <td>0</td>\n",
       "      <td>1</td>\n",
       "      <td>0</td>\n",
       "      <td>11</td>\n",
       "      <td>15</td>\n",
       "      <td>0</td>\n",
       "      <td>99</td>\n",
       "      <td>17</td>\n",
       "      <td>True</td>\n",
       "    </tr>\n",
       "  </tbody>\n",
       "</table>\n",
       "</div>"
      ],
      "text/plain": [
       "   Season  City       Date  Team1  Team2  Toss_winner  Toss_decision  Result  \\\n",
       "0       9    14 2017-04-05     11     10           10              1       1   \n",
       "1       9    26 2017-04-06      7      9            9              1       1   \n",
       "2       9    28 2017-04-07      3      6            6              1       1   \n",
       "3       9    15 2017-04-08      9      4            4              1       1   \n",
       "4       9     2 2017-04-08     10      2           10              0       1   \n",
       "\n",
       "   Dl_applied  Winner  Win_by_runs  Win_by_wickets  Player_of_match  Venue  \\\n",
       "0           0      12           35               0              225     28   \n",
       "1           0      10            0               7              199     21   \n",
       "2           0       6            0              10               34     31   \n",
       "3           0       4            0               6               61     13   \n",
       "4           0      11           15               0               99     17   \n",
       "\n",
       "   Toss_match_win  \n",
       "0           False  \n",
       "1            True  \n",
       "2            True  \n",
       "3            True  \n",
       "4            True  "
      ]
     },
     "execution_count": 111,
     "metadata": {},
     "output_type": "execute_result"
    }
   ],
   "source": [
    "data.head(5)"
   ]
  },
  {
   "cell_type": "code",
   "execution_count": 112,
   "id": "5aa1fad8-c321-4f35-9add-51e4d543fd16",
   "metadata": {},
   "outputs": [],
   "source": [
    "X = data[[\"Team1\",'Team2','Toss_winner','Toss_decision',\"Result\",\"Win_by_runs\",\"Win_by_wickets\"]]# Features\n",
    "y = data[[\"Winner\"]]# Target\n",
    "# Split (80% train, 20% test)\n",
    "X_train, X_test, y_train, y_test = train_test_split(X,y,test_size=0.2,random_state=42)"
   ]
  },
  {
   "cell_type": "markdown",
   "id": "badc4d4c-1873-4de1-95d7-48ea32e29def",
   "metadata": {},
   "source": [
    "### MODEL TRAINING"
   ]
  },
  {
   "cell_type": "code",
   "execution_count": 113,
   "id": "ee5a891e-5dc7-457d-b575-c2a24dd68cd8",
   "metadata": {},
   "outputs": [
    {
     "name": "stdout",
     "output_type": "stream",
     "text": [
      "                 Model  Accuracy  precision    recall  f1_score\n",
      "0  Logistic Regression  0.184211   0.135914  0.184211  0.152303\n",
      "1                  SVM  0.282895   0.252102  0.282895  0.253486\n",
      "2                  KNN  0.493421   0.500570  0.493421  0.477345\n",
      "3        Decision Tree  0.901316   0.906949  0.901316  0.897287\n",
      "4        Random Forest  0.881579   0.895890  0.881579  0.873547\n",
      "5              XGBoost  0.986842   0.988722  0.986842  0.987066\n"
     ]
    }
   ],
   "source": [
    "# Training Multiple Models\n",
    "# -------------------------------\n",
    "models = {\n",
    "    \"Logistic Regression\": LogisticRegression(max_iter=1000),\n",
    "    \"SVM\": SVC(kernel='linear', probability=True),\n",
    "    \"KNN\": KNeighborsClassifier(n_neighbors=5),\n",
    "    \"Decision Tree\": DecisionTreeClassifier(random_state=42),\n",
    "    \"Random Forest\": RandomForestClassifier(n_estimators=100, random_state=42),\n",
    "    \"XGBoost\": XGBClassifier(use_label_encoder=False)\n",
    "}\n",
    "results = []\n",
    "\n",
    "for name, model in models.items():\n",
    "    # For models sensitive to scaling, use scaled data. For tree-based models, use original data.\n",
    "    # Given the current features are mostly encoded categorical, scaling might not be necessary or beneficial for tree models.\n",
    "    # Let's use the original X_train and X_test as defined before.\n",
    "    model.fit(X_train, y_train)\n",
    "    y_pred = model.predict(X_test)\n",
    "\n",
    "    acc = accuracy_score(y_test, y_pred)\n",
    "    prec = precision_score(y_test, y_pred, average=\"weighted\", zero_division=0)\n",
    "    rec = recall_score(y_test, y_pred, average=\"weighted\", zero_division=0)\n",
    "    f1 = f1_score(y_test, y_pred, average=\"weighted\", zero_division=0)\n",
    "\n",
    "    results.append([name, acc,prec,rec,f1])\n",
    "# -------------------------------\n",
    "results_df = pd.DataFrame(results, columns=[\"Model\", \"Accuracy\",\"precision\",\"recall\",\"f1_score\"])\n",
    "print(results_df)"
   ]
  },
  {
   "cell_type": "markdown",
   "id": "c9963381-c802-46b6-9b10-13824379ecb6",
   "metadata": {},
   "source": [
    "### MODEL EVALUATION"
   ]
  },
  {
   "cell_type": "code",
   "execution_count": 114,
   "id": "f3edcbab-f685-4267-838b-4c12442d4cb8",
   "metadata": {},
   "outputs": [
    {
     "name": "stdout",
     "output_type": "stream",
     "text": [
      "\n",
      "--- Logistic Regression ---\n",
      "Confusion Matrix:\n",
      " [[14  3  4  0  1  0  4  0  0  0  0]\n",
      " [ 4  0  2  0  0  0  1  0  0  0  0]\n",
      " [ 4  0  2  0  0  0  4  0  0  0  0]\n",
      " [ 0  0  2  0  2  0  0  0  0  0  0]\n",
      " [ 4  0  2  0  1  0  8  0  0  2  0]\n",
      " [ 5  0  2  0  5  0  4  1  0  4  1]\n",
      " [ 5  0  0  0  2  0  3  1  0  6  2]\n",
      " [ 1  1  0  0  1  2  5  0  0  4  0]\n",
      " [ 0  0  1  0  0  0  4  0  0  4  0]\n",
      " [ 0  1  0  0  0  2  2  0  0  4  3]\n",
      " [ 0  0  0  0  0  1  5  0  0  2  4]]\n",
      "Classification Report:\n",
      "               precision    recall  f1-score   support\n",
      "\n",
      "           0       0.38      0.54      0.44        26\n",
      "           1       0.00      0.00      0.00         7\n",
      "           2       0.13      0.20      0.16        10\n",
      "           3       0.00      0.00      0.00         4\n",
      "           4       0.08      0.06      0.07        17\n",
      "           6       0.00      0.00      0.00        22\n",
      "           7       0.07      0.16      0.10        19\n",
      "           9       0.00      0.00      0.00        14\n",
      "          10       0.00      0.00      0.00         9\n",
      "          11       0.15      0.33      0.21        12\n",
      "          12       0.40      0.33      0.36        12\n",
      "\n",
      "    accuracy                           0.18       152\n",
      "   macro avg       0.11      0.15      0.12       152\n",
      "weighted avg       0.14      0.18      0.15       152\n",
      "\n",
      "\n",
      "--- SVM ---\n",
      "Confusion Matrix:\n",
      " [[18  5  2  0  0  0  1  0  0  0  0]\n",
      " [ 2  1  4  0  0  0  0  0  0  0  0]\n",
      " [ 2  1  5  0  0  0  2  0  0  0  0]\n",
      " [ 0  0  4  0  0  0  0  0  0  0  0]\n",
      " [ 4  0  1  3  2  0  6  0  0  0  1]\n",
      " [ 3  0  2  0  6  4  6  0  0  0  1]\n",
      " [ 5  0  0  0  2  2  6  0  0  1  3]\n",
      " [ 0  0  0  0  1  4  6  0  0  3  0]\n",
      " [ 0  0  1  0  0  1  4  0  0  2  1]\n",
      " [ 0  1  0  0  0  0  4  1  0  4  2]\n",
      " [ 1  0  0  0  0  0  7  0  0  1  3]]\n",
      "Classification Report:\n",
      "               precision    recall  f1-score   support\n",
      "\n",
      "           0       0.51      0.69      0.59        26\n",
      "           1       0.12      0.14      0.13         7\n",
      "           2       0.26      0.50      0.34        10\n",
      "           3       0.00      0.00      0.00         4\n",
      "           4       0.18      0.12      0.14        17\n",
      "           6       0.36      0.18      0.24        22\n",
      "           7       0.14      0.32      0.20        19\n",
      "           9       0.00      0.00      0.00        14\n",
      "          10       0.00      0.00      0.00         9\n",
      "          11       0.36      0.33      0.35        12\n",
      "          12       0.27      0.25      0.26        12\n",
      "\n",
      "    accuracy                           0.28       152\n",
      "   macro avg       0.20      0.23      0.21       152\n",
      "weighted avg       0.25      0.28      0.25       152\n",
      "\n",
      "\n",
      "--- KNN ---\n",
      "Confusion Matrix:\n",
      " [[20  1  5  0  0  0  0  0  0  0  0]\n",
      " [ 4  1  2  0  0  0  0  0  0  0  0]\n",
      " [ 0  2  7  0  1  0  0  0  0  0  0]\n",
      " [ 0  0  4  0  0  0  0  0  0  0  0]\n",
      " [ 1  0  1  0 12  2  1  0  0  0  0]\n",
      " [ 0  0  1  0  2 13  5  1  0  0  0]\n",
      " [ 0  0  0  0  1  8  6  3  0  1  0]\n",
      " [ 0  0  0  0  0  2  6  4  0  2  0]\n",
      " [ 0  0  0  0  0  1  0  5  1  1  1]\n",
      " [ 0  0  0  0  0  0  1  2  0  8  1]\n",
      " [ 0  0  0  0  0  1  1  2  1  4  3]]\n",
      "Classification Report:\n",
      "               precision    recall  f1-score   support\n",
      "\n",
      "           0       0.80      0.77      0.78        26\n",
      "           1       0.25      0.14      0.18         7\n",
      "           2       0.35      0.70      0.47        10\n",
      "           3       0.00      0.00      0.00         4\n",
      "           4       0.75      0.71      0.73        17\n",
      "           6       0.48      0.59      0.53        22\n",
      "           7       0.30      0.32      0.31        19\n",
      "           9       0.24      0.29      0.26        14\n",
      "          10       0.50      0.11      0.18         9\n",
      "          11       0.50      0.67      0.57        12\n",
      "          12       0.60      0.25      0.35        12\n",
      "\n",
      "    accuracy                           0.49       152\n",
      "   macro avg       0.43      0.41      0.40       152\n",
      "weighted avg       0.50      0.49      0.48       152\n",
      "\n",
      "\n",
      "--- Decision Tree ---\n",
      "Confusion Matrix:\n",
      " [[24  0  0  0  0  2  0  0  0  0  0]\n",
      " [ 0  5  2  0  0  0  0  0  0  0  0]\n",
      " [ 0  0  9  0  0  0  0  0  1  0  0]\n",
      " [ 0  0  0  4  0  0  0  0  0  0  0]\n",
      " [ 0  0  0  0 17  0  0  0  0  0  0]\n",
      " [ 0  0  0  0  3 19  0  0  0  0  0]\n",
      " [ 0  0  0  0  0  0 18  0  0  0  1]\n",
      " [ 0  0  0  0  0  0  0 14  0  0  0]\n",
      " [ 0  0  0  0  0  0  0  4  4  0  1]\n",
      " [ 0  0  0  0  0  0  0  0  0 12  0]\n",
      " [ 0  0  0  0  0  0  0  0  0  1 11]]\n",
      "Classification Report:\n",
      "               precision    recall  f1-score   support\n",
      "\n",
      "           0       1.00      0.92      0.96        26\n",
      "           1       1.00      0.71      0.83         7\n",
      "           2       0.82      0.90      0.86        10\n",
      "           3       1.00      1.00      1.00         4\n",
      "           4       0.85      1.00      0.92        17\n",
      "           6       0.90      0.86      0.88        22\n",
      "           7       1.00      0.95      0.97        19\n",
      "           9       0.78      1.00      0.88        14\n",
      "          10       0.80      0.44      0.57         9\n",
      "          11       0.92      1.00      0.96        12\n",
      "          12       0.85      0.92      0.88        12\n",
      "\n",
      "    accuracy                           0.90       152\n",
      "   macro avg       0.90      0.88      0.88       152\n",
      "weighted avg       0.91      0.90      0.90       152\n",
      "\n",
      "\n",
      "--- Random Forest ---\n",
      "Confusion Matrix:\n",
      " [[25  0  0  0  0  1  0  0  0  0  0]\n",
      " [ 0  4  3  0  0  0  0  0  0  0  0]\n",
      " [ 0  0 10  0  0  0  0  0  0  0  0]\n",
      " [ 0  0  0  4  0  0  0  0  0  0  0]\n",
      " [ 0  0  1  0 16  0  0  0  0  0  0]\n",
      " [ 0  0  0  0  2 19  1  0  0  0  0]\n",
      " [ 0  0  0  0  0  0 18  0  0  0  1]\n",
      " [ 0  0  0  0  0  1  1 12  0  0  0]\n",
      " [ 0  0  0  0  0  0  1  4  3  0  1]\n",
      " [ 0  0  0  0  0  0  0  0  0 12  0]\n",
      " [ 0  0  0  0  0  0  0  0  0  1 11]]\n",
      "Classification Report:\n",
      "               precision    recall  f1-score   support\n",
      "\n",
      "           0       1.00      0.96      0.98        26\n",
      "           1       1.00      0.57      0.73         7\n",
      "           2       0.71      1.00      0.83        10\n",
      "           3       1.00      1.00      1.00         4\n",
      "           4       0.89      0.94      0.91        17\n",
      "           6       0.90      0.86      0.88        22\n",
      "           7       0.86      0.95      0.90        19\n",
      "           9       0.75      0.86      0.80        14\n",
      "          10       1.00      0.33      0.50         9\n",
      "          11       0.92      1.00      0.96        12\n",
      "          12       0.85      0.92      0.88        12\n",
      "\n",
      "    accuracy                           0.88       152\n",
      "   macro avg       0.90      0.85      0.85       152\n",
      "weighted avg       0.90      0.88      0.87       152\n",
      "\n",
      "\n",
      "--- XGBoost ---\n",
      "Confusion Matrix:\n",
      " [[26  0  0  0  0  0  0  0  0  0  0]\n",
      " [ 0  7  0  0  0  0  0  0  0  0  0]\n",
      " [ 0  0 10  0  0  0  0  0  0  0  0]\n",
      " [ 0  0  0  4  0  0  0  0  0  0  0]\n",
      " [ 0  0  0  0 17  0  0  0  0  0  0]\n",
      " [ 0  0  0  0  0 22  0  0  0  0  0]\n",
      " [ 0  0  0  0  0  0 18  0  0  0  1]\n",
      " [ 0  0  0  0  0  0  0 14  0  0  0]\n",
      " [ 0  0  0  0  0  0  0  0  8  0  1]\n",
      " [ 0  0  0  0  0  0  0  0  0 12  0]\n",
      " [ 0  0  0  0  0  0  0  0  0  0 12]]\n",
      "Classification Report:\n",
      "               precision    recall  f1-score   support\n",
      "\n",
      "           0       1.00      1.00      1.00        26\n",
      "           1       1.00      1.00      1.00         7\n",
      "           2       1.00      1.00      1.00        10\n",
      "           3       1.00      1.00      1.00         4\n",
      "           4       1.00      1.00      1.00        17\n",
      "           6       1.00      1.00      1.00        22\n",
      "           7       1.00      0.95      0.97        19\n",
      "           9       1.00      1.00      1.00        14\n",
      "          10       1.00      0.89      0.94         9\n",
      "          11       1.00      1.00      1.00        12\n",
      "          12       0.86      1.00      0.92        12\n",
      "\n",
      "    accuracy                           0.99       152\n",
      "   macro avg       0.99      0.99      0.99       152\n",
      "weighted avg       0.99      0.99      0.99       152\n",
      "\n"
     ]
    }
   ],
   "source": [
    "for name, model in models.items():\n",
    "    y_pred = model.predict(X_test)\n",
    "\n",
    "    print(f\"\\n--- {name} ---\")\n",
    "    print(\"Confusion Matrix:\\n\", confusion_matrix(y_test, y_pred))\n",
    "    print(\"Classification Report:\\n\", classification_report(y_test, y_pred))"
   ]
  },
  {
   "cell_type": "markdown",
   "id": "c29d4a67-1059-45a0-98ec-b846c3aef4b8",
   "metadata": {},
   "source": [
    "### CROSS VALIDATION"
   ]
  },
  {
   "cell_type": "code",
   "execution_count": 115,
   "id": "099790ca-d954-4976-a5fe-0eb2afd8de38",
   "metadata": {},
   "outputs": [
    {
     "name": "stdout",
     "output_type": "stream",
     "text": [
      "Evaluating: Logistic Regression\n",
      "Evaluating: SVM\n",
      "Evaluating: KNN\n",
      "Evaluating: Decision Tree\n",
      "Evaluating: Random Forest\n",
      "Evaluating: XGBoost\n",
      "                 Model  Accuracy  Precision  Recall  F1 Score\n",
      "5              XGBoost     0.972      0.971   0.972     0.970\n",
      "3        Decision Tree     0.925      0.931   0.927     0.926\n",
      "4        Random Forest     0.884      0.887   0.876     0.878\n",
      "2                  KNN     0.474      0.452   0.474     0.453\n",
      "1                  SVM     0.291      0.194   0.291     0.213\n",
      "0  Logistic Regression     0.206      0.173   0.206     0.179\n"
     ]
    }
   ],
   "source": [
    "from sklearn.model_selection import cross_val_score, cross_val_predict, StratifiedKFold\n",
    "from sklearn.neighbors import KNeighborsClassifier # Import KNeighborsClassifier\n",
    "import xgboost as xgb # Import xgboost\n",
    "from sklearn.linear_model import LogisticRegression\n",
    "from sklearn.svm import SVC\n",
    "from sklearn.tree import DecisionTreeClassifier\n",
    "from sklearn.ensemble import RandomForestClassifier\n",
    "\n",
    "models = {\n",
    "    \"Logistic Regression\": LogisticRegression(max_iter=1000),\n",
    "    \"SVM\": SVC(),\n",
    "    \"KNN\": KNeighborsClassifier(),\n",
    "    \"Decision Tree\": DecisionTreeClassifier(),\n",
    "    \"Random Forest\": RandomForestClassifier(),\n",
    "    \"XGBoost\": xgb.XGBClassifier(use_label_encoder=False )\n",
    "}\n",
    "\n",
    "results = []\n",
    "\n",
    "cv = StratifiedKFold(n_splits=5, shuffle=True, random_state=42)    #4[train_fold],1[test_fold]\n",
    "\n",
    "for name, model in models.items():\n",
    "    print(f\"Evaluating: {name}\")\n",
    "\n",
    "    acc = cross_val_score(model, X, y, cv=cv, scoring='accuracy').mean()\n",
    "    prec = cross_val_score(model, X, y, cv=cv, scoring='precision_weighted', error_score='raise').mean()\n",
    "    rec = cross_val_score(model, X, y, cv=cv, scoring='recall_weighted').mean()\n",
    "    f1 = cross_val_score(model, X, y, cv=cv, scoring='f1_weighted').mean()\n",
    "\n",
    "    results.append({\n",
    "        'Model': name,\n",
    "        'Accuracy': round(acc, 3),\n",
    "        'Precision': round(prec, 3),\n",
    "        'Recall': round(rec, 3),\n",
    "        'F1 Score': round(f1, 3)\n",
    "    })\n",
    "\n",
    "df_results = pd.DataFrame(results)\n",
    "df_results = df_results.sort_values(by='Accuracy', ascending=False)\n",
    "print(df_results)"
   ]
  },
  {
   "cell_type": "markdown",
   "id": "67964909-ebb5-4d2e-8546-3cb416f583ee",
   "metadata": {},
   "source": [
    "### MODEL COMPARISION"
   ]
  },
  {
   "cell_type": "code",
   "execution_count": 125,
   "id": "7f2b418f-b388-4121-b509-a3853a5f85d2",
   "metadata": {},
   "outputs": [
    {
     "data": {
      "image/png": "[encoded data removed]",
      "text/plain": [
       "<Figure size 1400x800 with 1 Axes>"
      ]
     },
     "metadata": {},
     "output_type": "display_data"
    }
   ],
   "source": [
    "import matplotlib.pyplot as plt\n",
    "import seaborn as sns\n",
    "\n",
    "# Melt the dataframe to have a single column for metrics\n",
    "df_melted = results_df.melt(id_vars='Model', var_name='Metric', value_name='Score')\n",
    "\n",
    "plt.figure(figsize=(14, 8))\n",
    "sns.barplot(x='Model', y='Score', hue='Metric', data=df_melted, palette='inferno')\n",
    "plt.title('Model Performance Comparison')\n",
    "plt.ylabel('Score')\n",
    "plt.xticks(rotation=45, ha='right')\n",
    "plt.legend(title='Metric')\n",
    "plt.tight_layout()\n",
    "plt.show()"
   ]
  },
  {
   "cell_type": "markdown",
   "id": "1c3fde52-4911-4536-807b-92698647d3c0",
   "metadata": {},
   "source": [
    "### HYPERPARAMETER TUNING"
   ]
  },
  {
   "cell_type": "code",
   "execution_count": 117,
   "id": "f98c3fdd-8115-4360-a84d-a614b5232a1f",
   "metadata": {},
   "outputs": [
    {
     "name": "stdout",
     "output_type": "stream",
     "text": [
      "Best Parameters and Accuracy Scores:\n",
      "XGBoost Best Params         : {'learning_rate': 0.1, 'max_depth': 3, 'n_estimators': 150}\n",
      "XGBoost Best Accuracy       : 0.9602564734085348\n"
     ]
    }
   ],
   "source": [
    "from sklearn.model_selection import GridSearchCV\n",
    "from xgboost import XGBClassifier\n",
    "\n",
    "param_grid_xgb = {\n",
    "    'n_estimators': [50, 100, 150],\n",
    "    'max_depth': [3, 5, 7],\n",
    "    'learning_rate': [0.01, 0.1, 0.2]\n",
    "}\n",
    "\n",
    "xgb = XGBClassifier(use_label_encoder=False)\n",
    "grid_xgb = GridSearchCV(estimator=xgb, param_grid=param_grid_xgb, cv=3, scoring='accuracy', n_jobs=-1)\n",
    "grid_xgb.fit(X_train, y_train)\n",
    "\n",
    "print(\"Best Parameters and Accuracy Scores:\")\n",
    "print(\"XGBoost Best Params         :\", grid_xgb.best_params_)\n",
    "print(\"XGBoost Best Accuracy       :\", grid_xgb.best_score_)\n"
   ]
  },
  {
   "cell_type": "code",
   "execution_count": 118,
   "id": "d6db34fd-6df3-464d-b9fc-c4d6cbeaa0b2",
   "metadata": {},
   "outputs": [
    {
     "name": "stdout",
     "output_type": "stream",
     "text": [
      "             Model  Accuracy  Precision    Recall  F1-Score\n",
      "0  XGBoost (Tuned)  0.986842   0.988722  0.986842  0.987066\n"
     ]
    }
   ],
   "source": [
    "from sklearn.metrics import accuracy_score, precision_score, recall_score, f1_score\n",
    "\n",
    "tuned_models = {\n",
    "    \"XGBoost (Tuned)\": grid_xgb.best_estimator_}\n",
    "\n",
    "tuned_results = []\n",
    "\n",
    "for name, model in tuned_models.items():\n",
    "    y_pred = model.predict(X_test)\n",
    "\n",
    "    acc = accuracy_score(y_test, y_pred)\n",
    "    prec = precision_score(y_test, y_pred, average=\"weighted\", zero_division=0)\n",
    "    rec = recall_score(y_test, y_pred, average=\"weighted\", zero_division=0)\n",
    "    f1 = f1_score(y_test, y_pred, average=\"weighted\", zero_division=0)\n",
    "\n",
    "    tuned_results.append([name, acc, prec, rec, f1])\n",
    "\n",
    "tuned_results_df = pd.DataFrame(tuned_results, columns=[\"Model\", \"Accuracy\", \"Precision\", \"Recall\", \"F1-Score\"])\n",
    "print(tuned_results_df)"
   ]
  },
  {
   "cell_type": "markdown",
   "id": "166ac18e-6689-4b85-9ad7-a4ef98b25129",
   "metadata": {},
   "source": [
    "### SAVE THE MODEL"
   ]
  },
  {
   "cell_type": "code",
   "execution_count": 119,
   "id": "07e34175-838a-4b1b-b320-7f4ca692d8ca",
   "metadata": {},
   "outputs": [
    {
     "name": "stdout",
     "output_type": "stream",
     "text": [
      "Model saved successfully!\n"
     ]
    }
   ],
   "source": [
    "import joblib\n",
    "\n",
    "# Save the best model\n",
    "joblib.dump(xgb, \"best_ipl_model.pkl\")\n",
    "\n",
    "print(\"Model saved successfully!\")"
   ]
  },
  {
   "cell_type": "code",
   "execution_count": 124,
   "id": "c9194f1c-633f-473c-8a32-ae8b5d3096d3",
   "metadata": {},
   "outputs": [
    {
     "name": "stdout",
     "output_type": "stream",
     "text": [
      " Accuracy: 0.9736842105263158\n",
      " Predicted Match Winner (encoded value): 4\n"
     ]
    }
   ],
   "source": [
    "import pandas as pd\n",
    "import xgboost as xgb\n",
    "from sklearn.model_selection import train_test_split\n",
    "from sklearn.metrics import accuracy_score\n",
    "from sklearn.preprocessing import LabelEncoder\n",
    "\n",
    "# Encode categorical columns\n",
    "for col in data.columns:\n",
    "    if data[col].dtype == \"object\":\n",
    "        le = LabelEncoder()\n",
    "        data[col] = le.fit_transform(data[col].astype(str))\n",
    "\n",
    "# Features and target\n",
    "X = data[['Team1', 'Team2', 'Toss_winner', 'Toss_decision', 'Result', 'Win_by_runs', 'Win_by_wickets']]\n",
    "y = data['Winner']\n",
    "\n",
    "# Train/Test split (with stratify)\n",
    "X_train, X_test, y_train, y_test = train_test_split(\n",
    "    X, y, test_size=0.2, random_state=42, stratify=y       #imbalance=balance\n",
    ")\n",
    "\n",
    "# Train XGBoost model\n",
    "model = xgb.XGBClassifier(use_label_encoder=False)\n",
    "model.fit(X_train, y_train)\n",
    "\n",
    "# ---- Evaluate ----\n",
    "y_pred = model.predict(X_test)\n",
    "print(\" Accuracy:\", accuracy_score(y_test, y_pred))\n",
    "\n",
    "# ---- Prediction Function ----\n",
    "def predict_winner(team1, team2, toss_winner, toss_decision, result, win_by_runs, win_by_wickets):\n",
    "    new_data = pd.DataFrame([{\n",
    "        'Team1': team1,\n",
    "        'Team2': team2,\n",
    "        'Toss_winner': toss_winner,\n",
    "        'Toss_decision': toss_decision,\n",
    "        'Result': result,\n",
    "        'Win_by_runs': win_by_runs,\n",
    "        'Win_by_wickets': win_by_wickets\n",
    "    }])\n",
    "    pr = model.predict(new_data)\n",
    "    return pr[0]\n",
    "\n",
    "\n",
    "example_prediction = predict_winner(\n",
    "    team1=4,   # example encoded team1\n",
    "    team2=5,   # example encoded team2\n",
    "    toss_winner=4,\n",
    "    toss_decision=1,\n",
    "    result=1,\n",
    "    win_by_runs=40,\n",
    "    win_by_wickets=50\n",
    ")\n",
    "\n",
    "print(\" Predicted Match Winner (encoded value):\", example_prediction)\n",
    "\n"
   ]
  },
  {
   "cell_type": "code",
   "execution_count": null,
   "id": "0a78f75c-42bb-47c2-8b8e-9eec9d4761dc",
   "metadata": {},
   "outputs": [],
   "source": []
  }
 ],
 "metadata": {
  "kernelspec": {
   "display_name": "Python 3 (ipykernel)",
   "language": "python",
   "name": "python3"
  },
  "language_info": {
   "codemirror_mode": {
    "name": "ipython",
    "version": 3
   },
   "file_extension": ".py",
   "mimetype": "text/x-python",
   "name": "python",
   "nbconvert_exporter": "python",
   "pygments_lexer": "ipython3",
   "version": "3.13.5"
  }
 },
 "nbformat": 4,
 "nbformat_minor": 5
}
